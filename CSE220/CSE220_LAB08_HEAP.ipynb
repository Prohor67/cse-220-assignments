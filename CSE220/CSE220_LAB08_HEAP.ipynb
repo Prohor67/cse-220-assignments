{
  "nbformat": 4,
  "nbformat_minor": 0,
  "metadata": {
    "colab": {
      "provenance": []
    },
    "kernelspec": {
      "name": "python3",
      "display_name": "Python 3"
    },
    "language_info": {
      "name": "python"
    }
  },
  "cells": [
    {
      "cell_type": "code",
      "source": [
        "import numpy as np"
      ],
      "metadata": {
        "id": "9_J_ugNNIirX"
      },
      "execution_count": null,
      "outputs": []
    },
    {
      "cell_type": "markdown",
      "source": [
        "* Task 01"
      ],
      "metadata": {
        "id": "XmcfeYw1zz3n"
      }
    },
    {
      "cell_type": "code",
      "source": [
        "class MinHeap:\n",
        "  def __init__(self,capacity):\n",
        "    self.__capacity = capacity\n",
        "    self.__heap = np.zeros(capacity,dtype = int)\n",
        "    self.__size = 0\n",
        "\n",
        "  def insertion(self,value):\n",
        "    if self.__size == self.__capacity:\n",
        "      return \"Heap is full, Insertion is not possible.\"\n",
        "    self.__size+=1\n",
        "    self.__heap[self.__size] = value\n",
        "    self.swim()\n",
        "\n",
        "  def swim(self):\n",
        "    child = self.__size\n",
        "    parent = child // 2\n",
        "\n",
        "    while self.__heap[parent] > self.__heap[child]:\n",
        "        self.__heap[parent], self.__heap[child] = self.__heap[child], self.__heap[parent]\n",
        "        child = parent\n",
        "        parent = child//2\n",
        "\n",
        "  def deletion(self):\n",
        "    if self.__size == 0:\n",
        "      return \"Heap is empty, Deletion is not possible\"\n",
        "    value = self.__heap[1]\n",
        "    self.__heap[1],self.__heap[self.__size] = self.__heap[self.__size],self.__heap[1]\n",
        "    self.__size -=1\n",
        "    self.sink()\n",
        "    return value\n",
        "\n",
        "  def sink(self):\n",
        "    parent = 1\n",
        "    while True:\n",
        "        left = 2 * parent\n",
        "        if left > self.__size:\n",
        "            break\n",
        "        right = left + 1\n",
        "\n",
        "        min_child = left\n",
        "        if right <= self.__size and self.__heap[right] < self.__heap[left]:\n",
        "            min_child = right\n",
        "\n",
        "        if self.__heap[parent] > self.__heap[min_child]:\n",
        "            self.__heap[parent], self.__heap[min_child] = self.__heap[min_child], self.__heap[parent]\n",
        "            parent = min_child\n",
        "        else:\n",
        "            break\n",
        "\n",
        "  def extractMin(self):\n",
        "    if self.__size == 0:\n",
        "      return \"Heap is empty\"\n",
        "    return self.__heap[1]\n",
        "\n",
        "\n",
        "  def printer(self):\n",
        "    return self.__heap[1:self.__size + 1]\n",
        "\n",
        "  def heapsort(self):\n",
        "    result = np.zeros(self.__size, dtype=int)\n",
        "    original_size = self.__size\n",
        "    for i in range(original_size):\n",
        "        result[i] = self.deletion()\n",
        "    return result\n",
        "\n"
      ],
      "metadata": {
        "id": "yK3BKcJSpCsP"
      },
      "execution_count": null,
      "outputs": []
    },
    {
      "cell_type": "code",
      "source": [
        "arr = np.array([91, 52, 35, 6])\n",
        "minheap = MinHeap(6)\n",
        "\n",
        "for i in arr:\n",
        "    minheap.insertion(i)\n",
        "\n",
        "print(\"Heap elements:\")\n",
        "minheap.printer()  # Should print: 6 52 35 91\n",
        "\n",
        "print(\"Extract Min:\", minheap.extractMin())  # Should print: 6\n",
        "minheap.insertion(70)\n",
        "\n",
        "print(\"Heap after inserting 70:\")\n",
        "minheap.printer()  # Should print: 35 52 70 91\n",
        "\n",
        "print(\"Extract Min:\", minheap.extractMin())  # Should print: 35\n",
        "\n",
        "print(\"Sorted output:\")\n",
        "sorted_arr = minheap.heapsort()\n",
        "print(sorted_arr)  # Should print: [52 70 91]\n"
      ],
      "metadata": {
        "colab": {
          "base_uri": "https://localhost:8080/"
        },
        "id": "3Z64aMMEzjBC",
        "outputId": "09814e9c-684f-4f0b-e861-af10b348c447"
      },
      "execution_count": null,
      "outputs": [
        {
          "output_type": "stream",
          "name": "stdout",
          "text": [
            "Heap elements:\n",
            "0 6 35 52 91 0 \n",
            "Extract Min: 6\n",
            "Heap after inserting 70:\n",
            "0 6 35 52 91 70 \n",
            "Extract Min: 6\n",
            "Sorted output:\n",
            "[ 6 35 52 70 91]\n"
          ]
        }
      ]
    },
    {
      "cell_type": "markdown",
      "source": [
        "* TASK 02\n"
      ],
      "metadata": {
        "id": "BJiMzjJVKBiB"
      }
    },
    {
      "cell_type": "code",
      "source": [
        "import numpy as np\n",
        "\n",
        "class MaxHeap:\n",
        "    def __init__(self, capacity):\n",
        "        self.__capacity = capacity\n",
        "        self.__heap = np.zeros(capacity+1, dtype=int)\n",
        "        self.__size = 0\n",
        "\n",
        "    def insertion(self, value):\n",
        "        if self.__size == self.__capacity:\n",
        "            return \"Heap is full, Insertion is not possible.\"\n",
        "        self.__size += 1\n",
        "        self.__heap[self.__size] = value\n",
        "        self.swim()\n",
        "\n",
        "    def swim(self):\n",
        "        child = self.__size\n",
        "        parent = child // 2\n",
        "\n",
        "        while self.__heap[parent] < self.__heap[child]:\n",
        "            self.__heap[parent], self.__heap[child] = self.__heap[child], self.__heap[parent]\n",
        "            child = parent\n",
        "            parent = child // 2\n",
        "\n",
        "    def deletion(self):\n",
        "        if self.__size == 0:\n",
        "            return \"Heap is empty, Deletion is not possible\"\n",
        "        value = self.__heap[1]\n",
        "        self.__heap[1], self.__heap[self.__size] = self.__heap[self.__size], self.__heap[1]\n",
        "        self.__size -= 1\n",
        "        self.sink()\n",
        "        return value\n",
        "\n",
        "    def sink(self):\n",
        "        parent = 1\n",
        "        while True:\n",
        "            left = 2 * parent\n",
        "            if left > self.__size:\n",
        "                break\n",
        "            right = left + 1\n",
        "\n",
        "            max_child = left\n",
        "            if right <= self.__size and self.__heap[right] > self.__heap[left]:\n",
        "                max_child = right\n",
        "\n",
        "            if self.__heap[parent] < self.__heap[max_child]:\n",
        "                self.__heap[parent], self.__heap[max_child] = self.__heap[max_child], self.__heap[parent]\n",
        "                parent = max_child\n",
        "            else:\n",
        "                break\n",
        "\n",
        "\n",
        "\n",
        "    def printer(self):\n",
        "        for i in self.__heap:\n",
        "            print(i, end=\" \")\n",
        "        print()\n",
        "    def extractMax(self):\n",
        "        if self.__size == 0:\n",
        "            return \"Heap is empty\"\n",
        "        return self.__heap[1]\n",
        "\n",
        "    def heapsort(self):\n",
        "        result = np.zeros(self.__size, dtype=int)\n",
        "        original_size = self.__size\n",
        "        for i in range(original_size):\n",
        "            result[i] = self.deletion()\n",
        "        return result"
      ],
      "metadata": {
        "id": "Ai4SrAClGktM"
      },
      "execution_count": null,
      "outputs": []
    },
    {
      "cell_type": "code",
      "source": [
        "def distribute_tasks(tasks, m):\n",
        "    # Step 1: Initialize a min-heap with m machines, all having initial load 0\n",
        "    heap = MinHeap(m)\n",
        "    for _ in range(m):\n",
        "        heap.insertion(0)\n",
        "\n",
        "    # Step 2: Assign each task to the machine with the smallest current load\n",
        "    for task in tasks:\n",
        "        # Extract the machine with the smallest load\n",
        "        min_load = heap.deletion()\n",
        "        # Add the task's processing time to this load\n",
        "        updated_load = min_load + task\n",
        "        # Reinsert the updated load back into the heap\n",
        "        heap.insertion(updated_load)\n",
        "\n",
        "    # Step 3: Return the final array representation of the heap\n",
        "    return heap.printer()\n",
        "\n",
        "\n",
        "# Example Usage\n",
        "tasks = [2, 4, 7, 1, 6]\n",
        "m = 4\n",
        "result = distribute_tasks(tasks, m)\n",
        "print(result)  # Output: [2, 4, 7, 7]"
      ],
      "metadata": {
        "colab": {
          "base_uri": "https://localhost:8080/",
          "height": 339
        },
        "id": "56KYHd4IH6HX",
        "outputId": "9aa9828e-5307-40bb-d33b-93036a55d434"
      },
      "execution_count": null,
      "outputs": [
        {
          "output_type": "error",
          "ename": "IndexError",
          "evalue": "index 4 is out of bounds for axis 0 with size 4",
          "traceback": [
            "\u001b[0;31m---------------------------------------------------------------------------\u001b[0m",
            "\u001b[0;31mIndexError\u001b[0m                                Traceback (most recent call last)",
            "\u001b[0;32m<ipython-input-102-207b622dff94>\u001b[0m in \u001b[0;36m<cell line: 0>\u001b[0;34m()\u001b[0m\n\u001b[1;32m     21\u001b[0m \u001b[0mtasks\u001b[0m \u001b[0;34m=\u001b[0m \u001b[0;34m[\u001b[0m\u001b[0;36m2\u001b[0m\u001b[0;34m,\u001b[0m \u001b[0;36m4\u001b[0m\u001b[0;34m,\u001b[0m \u001b[0;36m7\u001b[0m\u001b[0;34m,\u001b[0m \u001b[0;36m1\u001b[0m\u001b[0;34m,\u001b[0m \u001b[0;36m6\u001b[0m\u001b[0;34m]\u001b[0m\u001b[0;34m\u001b[0m\u001b[0;34m\u001b[0m\u001b[0m\n\u001b[1;32m     22\u001b[0m \u001b[0mm\u001b[0m \u001b[0;34m=\u001b[0m \u001b[0;36m4\u001b[0m\u001b[0;34m\u001b[0m\u001b[0;34m\u001b[0m\u001b[0m\n\u001b[0;32m---> 23\u001b[0;31m \u001b[0mresult\u001b[0m \u001b[0;34m=\u001b[0m \u001b[0mdistribute_tasks\u001b[0m\u001b[0;34m(\u001b[0m\u001b[0mtasks\u001b[0m\u001b[0;34m,\u001b[0m \u001b[0mm\u001b[0m\u001b[0;34m)\u001b[0m\u001b[0;34m\u001b[0m\u001b[0;34m\u001b[0m\u001b[0m\n\u001b[0m\u001b[1;32m     24\u001b[0m \u001b[0mprint\u001b[0m\u001b[0;34m(\u001b[0m\u001b[0mresult\u001b[0m\u001b[0;34m)\u001b[0m  \u001b[0;31m# Output: [2, 4, 7, 7]\u001b[0m\u001b[0;34m\u001b[0m\u001b[0;34m\u001b[0m\u001b[0m\n",
            "\u001b[0;32m<ipython-input-102-207b622dff94>\u001b[0m in \u001b[0;36mdistribute_tasks\u001b[0;34m(tasks, m)\u001b[0m\n\u001b[1;32m      3\u001b[0m     \u001b[0mheap\u001b[0m \u001b[0;34m=\u001b[0m \u001b[0mMinHeap\u001b[0m\u001b[0;34m(\u001b[0m\u001b[0mm\u001b[0m\u001b[0;34m)\u001b[0m\u001b[0;34m\u001b[0m\u001b[0;34m\u001b[0m\u001b[0m\n\u001b[1;32m      4\u001b[0m     \u001b[0;32mfor\u001b[0m \u001b[0m_\u001b[0m \u001b[0;32min\u001b[0m \u001b[0mrange\u001b[0m\u001b[0;34m(\u001b[0m\u001b[0mm\u001b[0m\u001b[0;34m)\u001b[0m\u001b[0;34m:\u001b[0m\u001b[0;34m\u001b[0m\u001b[0;34m\u001b[0m\u001b[0m\n\u001b[0;32m----> 5\u001b[0;31m         \u001b[0mheap\u001b[0m\u001b[0;34m.\u001b[0m\u001b[0minsertion\u001b[0m\u001b[0;34m(\u001b[0m\u001b[0;36m0\u001b[0m\u001b[0;34m)\u001b[0m\u001b[0;34m\u001b[0m\u001b[0;34m\u001b[0m\u001b[0m\n\u001b[0m\u001b[1;32m      6\u001b[0m \u001b[0;34m\u001b[0m\u001b[0m\n\u001b[1;32m      7\u001b[0m     \u001b[0;31m# Step 2: Assign each task to the machine with the smallest current load\u001b[0m\u001b[0;34m\u001b[0m\u001b[0;34m\u001b[0m\u001b[0m\n",
            "\u001b[0;32m<ipython-input-97-adf18fed76b9>\u001b[0m in \u001b[0;36minsertion\u001b[0;34m(self, value)\u001b[0m\n\u001b[1;32m      9\u001b[0m       \u001b[0;32mreturn\u001b[0m \u001b[0;34m\"Heap is full, Insertion is not possible.\"\u001b[0m\u001b[0;34m\u001b[0m\u001b[0;34m\u001b[0m\u001b[0m\n\u001b[1;32m     10\u001b[0m     \u001b[0mself\u001b[0m\u001b[0;34m.\u001b[0m\u001b[0m__size\u001b[0m\u001b[0;34m+=\u001b[0m\u001b[0;36m1\u001b[0m\u001b[0;34m\u001b[0m\u001b[0;34m\u001b[0m\u001b[0m\n\u001b[0;32m---> 11\u001b[0;31m     \u001b[0mself\u001b[0m\u001b[0;34m.\u001b[0m\u001b[0m__heap\u001b[0m\u001b[0;34m[\u001b[0m\u001b[0mself\u001b[0m\u001b[0;34m.\u001b[0m\u001b[0m__size\u001b[0m\u001b[0;34m]\u001b[0m \u001b[0;34m=\u001b[0m \u001b[0mvalue\u001b[0m\u001b[0;34m\u001b[0m\u001b[0;34m\u001b[0m\u001b[0m\n\u001b[0m\u001b[1;32m     12\u001b[0m     \u001b[0mself\u001b[0m\u001b[0;34m.\u001b[0m\u001b[0mswim\u001b[0m\u001b[0;34m(\u001b[0m\u001b[0;34m)\u001b[0m\u001b[0;34m\u001b[0m\u001b[0;34m\u001b[0m\u001b[0m\n\u001b[1;32m     13\u001b[0m \u001b[0;34m\u001b[0m\u001b[0m\n",
            "\u001b[0;31mIndexError\u001b[0m: index 4 is out of bounds for axis 0 with size 4"
          ]
        }
      ]
    },
    {
      "cell_type": "code",
      "source": [
        "import numpy as np\n",
        "\n",
        "class MinHeap:\n",
        "    def __init__(self, capacity):\n",
        "        self.__capacity = capacity\n",
        "        self.__heap = np.zeros(capacity + 1, dtype=int)\n",
        "        self.__size = 0\n",
        "\n",
        "    def insertion(self, value):\n",
        "        if self.__size == self.__capacity:\n",
        "            return \"Heap is full, Insertion is not possible.\"\n",
        "        self.__size += 1\n",
        "        self.__heap[self.__size] = value\n",
        "        self.swim()\n",
        "\n",
        "    def swim(self):\n",
        "        child = self.__size\n",
        "        parent = child // 2\n",
        "\n",
        "        while parent >= 1 and self.__heap[parent] > self.__heap[child]:\n",
        "            self.__heap[parent], self.__heap[child] = self.__heap[child], self.__heap[parent]\n",
        "            child = parent\n",
        "            parent = child // 2\n",
        "\n",
        "    def deletion(self):\n",
        "        if self.__size == 0:\n",
        "            return \"Heap is empty, Deletion is not possible\"\n",
        "        value = self.__heap[1]\n",
        "        self.__heap[1], self.__heap[self.__size] = self.__heap[self.__size], self.__heap[1]\n",
        "        self.__size -= 1\n",
        "        self.sink()\n",
        "        return value\n",
        "\n",
        "    def sink(self):\n",
        "        parent = 1\n",
        "        while True:\n",
        "            left = 2 * parent\n",
        "            if left > self.__size:\n",
        "                break\n",
        "            right = left + 1\n",
        "\n",
        "            min_child = left\n",
        "            if right <= self.__size and self.__heap[right] < self.__heap[left]:\n",
        "                min_child = right\n",
        "\n",
        "            if self.__heap[parent] > self.__heap[min_child]:\n",
        "                self.__heap[parent], self.__heap[min_child] = self.__heap[min_child], self.__heap[parent]\n",
        "                parent = min_child\n",
        "            else:\n",
        "                break\n",
        "\n",
        "    def extractMin(self):\n",
        "        if self.__size == 0:\n",
        "            return \"Heap is empty\"\n",
        "        return self.__heap[1]\n",
        "\n",
        "    def printer(self):\n",
        "        return self.__heap[1:self.__size + 1]\n",
        "\n",
        "    def heapsort(self):\n",
        "        result = np.zeros(self.__size, dtype=int)\n",
        "        original_size = self.__size\n",
        "        for i in range(original_size):\n",
        "            result[i] = self.deletion()\n",
        "        return result\n",
        "\n"
      ],
      "metadata": {
        "id": "3GDRdhbMQWJq"
      },
      "execution_count": null,
      "outputs": []
    },
    {
      "cell_type": "code",
      "source": [
        "arr = np.array([91, 52, 35, 6])\n",
        "minheap = MinHeap(6)\n",
        "\n",
        "for i in arr:\n",
        "    minheap.insertion(i)\n",
        "\n",
        "print(\"Heap elements:\")\n",
        "minheap.printer()\n",
        "\n",
        "print(\"Extract Min:\", minheap.extractMin())\n",
        "minheap.insertion(70)\n",
        "\n",
        "print(\"Heap after inserting 70:\")\n",
        "minheap.printer()\n",
        "\n",
        "print(\"Extract Min:\", minheap.extractMin())  #\n",
        "\n",
        "print(\"Sorted output:\")\n",
        "sorted_arr = minheap.heapsort()\n",
        "print(sorted_arr)\n"
      ],
      "metadata": {
        "colab": {
          "base_uri": "https://localhost:8080/"
        },
        "id": "aXS0eo94Q_T6",
        "outputId": "b53fc832-ada3-47e3-c4cc-ec48cb215231"
      },
      "execution_count": null,
      "outputs": [
        {
          "output_type": "stream",
          "name": "stdout",
          "text": [
            "Heap elements:\n",
            "Extract Min: 6\n",
            "Heap after inserting 70:\n",
            "Extract Min: 6\n",
            "Sorted output:\n",
            "[ 6 35 52 70 91]\n"
          ]
        }
      ]
    },
    {
      "cell_type": "code",
      "source": [
        "def distribute_tasks(tasks, m):\n",
        "    heap = MinHeap(m)\n",
        "    for _ in range(m):\n",
        "        heap.insertion(0)\n",
        "\n",
        "    for task in tasks:\n",
        "        min_load = heap.deletion()\n",
        "        updated_load = min_load + task\n",
        "        heap.insertion(updated_load)\n",
        "\n",
        "    return sorted(heap.printer())\n",
        "\n",
        "\n",
        "\n",
        "tasks = [2, 4, 7, 1, 6]\n",
        "m = 4\n",
        "result = distribute_tasks(tasks, m)\n",
        "print(result)"
      ],
      "metadata": {
        "colab": {
          "base_uri": "https://localhost:8080/"
        },
        "id": "EhcHj_lMQpZZ",
        "outputId": "e94739ec-9ca3-4fb2-d75d-01c97057a854"
      },
      "execution_count": null,
      "outputs": [
        {
          "output_type": "execute_result",
          "data": {
            "text/plain": [
              "[np.int64(2), np.int64(4), np.int64(7), np.int64(7)]"
            ]
          },
          "metadata": {},
          "execution_count": 105
        }
      ]
    },
    {
      "cell_type": "code",
      "source": [
        "def find_top_k_largest(nums, k):\n",
        "    # Step 1: Create a max-heap with the capacity equal to the size of nums\n",
        "    n = len(nums)\n",
        "    max_heap = MaxHeap(n)\n",
        "\n",
        "    # Step 2: Insert all elements from nums into the max-heap\n",
        "    for num in nums:\n",
        "        max_heap.insertion(num)\n",
        "\n",
        "    # Step 3: Extract the maximum k times and store the values in a result array\n",
        "    result = np.zeros(k, dtype=int)\n",
        "    for i in range(k):\n",
        "        result[i] = max_heap.deletion()\n",
        "\n",
        "    # Step 4: Return the result array\n",
        "    return result\n",
        "\n",
        "\n",
        "# Sample Input\n",
        "nums = [4, 10, 2, 8, 6, 7]\n",
        "k = 3\n",
        "\n",
        "# Find the top k largest elements\n",
        "output = find_top_k_largest(nums, k)\n",
        "print(output)  # Output: [10, 8, 7]"
      ],
      "metadata": {
        "colab": {
          "base_uri": "https://localhost:8080/"
        },
        "id": "4YLmKu6YSrM_",
        "outputId": "3b0a1958-abbd-4e6e-9b0e-ab4574b6bb8e"
      },
      "execution_count": null,
      "outputs": [
        {
          "output_type": "stream",
          "name": "stdout",
          "text": [
            "[8 7 6]\n"
          ]
        }
      ]
    },
    {
      "cell_type": "code",
      "source": [
        "\n",
        "class MaxHeap:\n",
        "    def __init__(self, capacity):\n",
        "        self.__capacity = capacity\n",
        "        self.__heap = np.zeros(capacity + 1, dtype=int)\n",
        "        self.__size = 0\n",
        "\n",
        "    def insertion(self, value):\n",
        "        if self.__size == self.__capacity:\n",
        "            return \"Heap is full, Insertion is not possible.\"\n",
        "        self.__size += 1\n",
        "        self.__heap[self.__size] = value\n",
        "        self.swim()\n",
        "\n",
        "    def swim(self):\n",
        "        child = self.__size\n",
        "        parent = child // 2\n",
        "\n",
        "        while parent > 0 and self.__heap[parent] < self.__heap[child]:\n",
        "            self.__heap[parent], self.__heap[child] = self.__heap[child], self.__heap[parent]\n",
        "            child = parent\n",
        "            parent = child // 2\n",
        "\n",
        "    def deletion(self):\n",
        "        if self.__size == 0:\n",
        "            return \"Heap is empty, Deletion is not possible\"\n",
        "        value = self.__heap[1]\n",
        "        self.__heap[1], self.__heap[self.__size] = self.__heap[self.__size], self.__heap[1]\n",
        "        self.__size -= 1\n",
        "        self.sink()\n",
        "        return value\n",
        "\n",
        "    def sink(self):\n",
        "        parent = 1\n",
        "        while True:\n",
        "            left = 2 * parent\n",
        "            if left > self.__size:\n",
        "                break\n",
        "            right = left + 1\n",
        "\n",
        "            max_child = left\n",
        "            if right <= self.__size and self.__heap[right] > self.__heap[left]:\n",
        "                max_child = right\n",
        "\n",
        "            if self.__heap[parent] < self.__heap[max_child]:\n",
        "                self.__heap[parent], self.__heap[max_child] = self.__heap[max_child], self.__heap[parent]\n",
        "                parent = max_child\n",
        "            else:\n",
        "                break\n",
        "\n",
        "    def printer(self):\n",
        "        for i in range(1, self.__size + 1):\n",
        "            print(self.__heap[i], end=\" \")\n",
        "        print()\n",
        "\n",
        "\n",
        "    def extractMax(self):\n",
        "        if self.__size == 0:\n",
        "            return \"Heap is empty\"\n",
        "        return self.__heap[1]\n",
        "\n",
        "    def heapsort(self):\n",
        "        result = np.zeros(self.__size, dtype=int)\n",
        "        original_size = self.__size\n",
        "        for i in range(original_size):\n",
        "            result[i] = self.deletion()\n",
        "        return result\n",
        "\n",
        "\n"
      ],
      "metadata": {
        "colab": {
          "base_uri": "https://localhost:8080/"
        },
        "id": "xPSGYA6LTGhw",
        "outputId": "0a25d214-7fec-4bac-89f4-e42784258de7"
      },
      "execution_count": null,
      "outputs": [
        {
          "output_type": "stream",
          "name": "stdout",
          "text": [
            "[10  8  7]\n"
          ]
        }
      ]
    },
    {
      "cell_type": "code",
      "source": [
        "def find_top_k_largest(nums, k):\n",
        "    n = len(nums)\n",
        "    max_heap = MaxHeap(n)\n",
        "\n",
        "    for num in nums:\n",
        "        max_heap.insertion(num)\n",
        "\n",
        "    result = np.zeros(k, dtype=int)\n",
        "    for i in range(k):\n",
        "        result[i] = max_heap.deletion()\n",
        "\n",
        "    return result\n",
        "\n",
        "\n",
        "\n",
        "nums = [4, 10, 2, 8, 6, 7]\n",
        "k = 3\n",
        "output = find_top_k_largest(nums, k)\n",
        "print(output)"
      ],
      "metadata": {
        "id": "cwh1Sj7gTfop"
      },
      "execution_count": null,
      "outputs": []
    }
  ]
}