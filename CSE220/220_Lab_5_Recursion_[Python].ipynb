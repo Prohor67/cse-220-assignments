{
  "cells": [
    {
      "cell_type": "code",
      "execution_count": null,
      "metadata": {
        "id": "zbefRogQkAgH"
      },
      "outputs": [],
      "source": [
        "# You must run this cell to install dependency\n",
        "import numpy as np"
      ]
    },
    {
      "cell_type": "markdown",
      "metadata": {
        "id": "Te9wDsFfkAgQ"
      },
      "source": [
        "### You need to complete driver code of task 1 on your own"
      ]
    },
    {
      "cell_type": "markdown",
      "metadata": {
        "id": "5b6BBYetkAgU"
      },
      "source": [
        "### **Task-1:**"
      ]
    },
    {
      "cell_type": "code",
      "execution_count": null,
      "metadata": {
        "id": "RnaUeR3akAgV"
      },
      "outputs": [],
      "source": [
        "def task1A():\n",
        "  i = 1\n",
        "  while i<11:\n",
        "      print(i)\n",
        "      i+=1\n",
        "  return\n",
        "\n",
        "def task1B_recursive(n=1):\n",
        "  if n>10:\n",
        "    return\n",
        "  print(n)\n",
        "  return task1B_recursive(n+1)\n",
        "\n",
        "\n",
        "def task1C(n):\n",
        "  i = 1\n",
        "  while i<n:\n",
        "    print(i)\n",
        "    i+=1\n",
        "  return\n",
        "\n",
        "def task1D_recursive(t,n=1):\n",
        "  if n>t:\n",
        "    return\n",
        "  print(n)\n",
        "  return task1D_recursive(t,n+1)\n",
        "\n",
        "\n"
      ]
    },
    {
      "cell_type": "code",
      "execution_count": null,
      "metadata": {
        "id": "_dSPd9CFkAgV",
        "colab": {
          "base_uri": "https://localhost:8080/"
        },
        "outputId": "9c078d1f-e8c2-4f95-a3e6-87c9de5da957"
      },
      "outputs": [
        {
          "output_type": "stream",
          "name": "stdout",
          "text": [
            "TASK 1A\n",
            "1\n",
            "2\n",
            "3\n",
            "4\n",
            "5\n",
            "6\n",
            "7\n",
            "8\n",
            "9\n",
            "10\n",
            "TASK 1B Recursive \n",
            "1\n",
            "2\n",
            "3\n",
            "4\n",
            "5\n",
            "6\n",
            "7\n",
            "8\n",
            "9\n",
            "10\n",
            "TASK 1C\n",
            "1\n",
            "2\n",
            "3\n",
            "4\n",
            "5\n",
            "6\n",
            "TASK 1D Recursive\n",
            "1\n",
            "2\n",
            "3\n",
            "4\n",
            "5\n",
            "6\n",
            "7\n"
          ]
        }
      ],
      "source": [
        "# Driver Code for Task-1\n",
        "# Write on your own\n",
        "print(f\"TASK 1A\")\n",
        "task1A()\n",
        "print(f\"TASK 1B Recursive \")\n",
        "task1B_recursive()\n",
        "print(f\"TASK 1C\")\n",
        "task1C(7)\n",
        "print(f\"TASK 1D Recursive\")\n",
        "task1D_recursive(7)"
      ]
    },
    {
      "cell_type": "markdown",
      "metadata": {
        "id": "ahoYQ0FDkAgW"
      },
      "source": [
        "### **Task-2:**"
      ]
    },
    {
      "cell_type": "code",
      "execution_count": null,
      "metadata": {
        "id": "Cy_FNKMnkAgW",
        "colab": {
          "base_uri": "https://localhost:8080/"
        },
        "outputId": "2bb7be9d-0bf4-413f-9e4a-bd6fbc138e26"
      },
      "outputs": [
        {
          "output_type": "stream",
          "name": "stdout",
          "text": [
            "7\n",
            "18\n"
          ]
        }
      ],
      "source": [
        "def task2A( arr ):\n",
        "  i = 0\n",
        "  while i<len(arr):\n",
        "    print(arr[i])\n",
        "    i+=1\n",
        "\n",
        "\n",
        "def task2B_recursive( arr,idx=0 ):\n",
        "   if idx>=len(arr):\n",
        "    return\n",
        "   print(arr[idx])\n",
        "   return task2B_recursive(arr,idx+1)\n",
        "\n",
        "def task2C( arr ):\n",
        "    i = 0\n",
        "    sum= 0\n",
        "    while i<len(arr):\n",
        "      sum+=arr[i]\n",
        "      i+=1\n",
        "    return sum\n",
        "def task2D_recursive( arr ,idx=0):\n",
        "  if idx>=len(arr):\n",
        "    return 0\n",
        "  return arr[idx]+task2D_recursive(arr,idx+1)\n",
        "\n",
        "\n",
        "def task2E( arr,idx =0 ):\n",
        "  multi=1\n",
        "  sum=0\n",
        "  while idx<len(arr):\n",
        "    if arr[idx]%2 == 0:\n",
        "      sum+=arr[idx]\n",
        "    else:\n",
        "      multi*=arr[idx]\n",
        "    idx+=1\n",
        "  return multi-sum\n",
        "\n",
        "def multi(arr,idx=0):\n",
        "  if idx>=len(arr):\n",
        "    return 1\n",
        "  if arr[idx]%2 != 0:\n",
        "    return arr[idx]*multi(arr,idx+1)\n",
        "  return multi(arr,idx+1)\n",
        "\n",
        "def summation(arr,idx=0):\n",
        "  if idx>=len(arr):\n",
        "    return 0\n",
        "  if arr[idx]%2 == 0:\n",
        "    return arr[idx]+summation(arr,idx+1)\n",
        "  return summation(arr,idx+1)\n",
        "\n",
        "def task2F_recursive( arr ):\n",
        "  return multi(arr)-summation(arr)\n",
        "\n",
        "print(multi([7,6,6,6,1]))\n",
        "print(summation([7,6,6,6,1]))"
      ]
    },
    {
      "cell_type": "code",
      "execution_count": null,
      "metadata": {
        "id": "vOf38aIlkAgX",
        "outputId": "e64aefe2-b7ee-490e-af02-242b9ff8f926",
        "colab": {
          "base_uri": "https://localhost:8080/"
        }
      },
      "outputs": [
        {
          "output_type": "stream",
          "name": "stdout",
          "text": [
            "Task2A: \n",
            "Expected Output:  1  1  2 16 15  2\n",
            "Your Output    : 1\n",
            "1\n",
            "2\n",
            "16\n",
            "15\n",
            "2\n",
            "\n",
            "\n",
            "Task2B_recursive: \n",
            "Expected Output:   1  1  2 16 15  2\n",
            "Your Output    : 1\n",
            "1\n",
            "2\n",
            "16\n",
            "15\n",
            "2\n",
            "\n",
            "\n",
            "Task2C: \n",
            "The Array:  [8 8 7 6 3 2]\n",
            "Expected Output:  34\n",
            "Your Output    :  34\n",
            "\n",
            "Task2D_recursive: \n",
            "The Array:  [8 8 7 6 3 2]\n",
            "Expected Output:  34\n",
            "Your Output    :  34\n",
            "\n",
            "Task2E: \n",
            "The Array:  [1 6 3 5 1]\n",
            "Expected Output:  9\n",
            "Your Output    :  9\n",
            "\n",
            "Task2F_recursive: \n",
            "The Array:  [1 6 3 5 1]\n",
            "Expected Output:  9\n",
            "Your Output    :  9\n"
          ]
        }
      ],
      "source": [
        "# Driver Code for Task-2\n",
        "# task2A\n",
        "print(\"Task2A: \")\n",
        "arr = np.random.randint(1, 20, size=6, dtype=int)\n",
        "print( \"Expected Output: \"+str(arr)[1:-1] )\n",
        "print( \"Your Output    : \",end=\"\" )\n",
        "task2A( arr )\n",
        "print()\n",
        "\n",
        "# task2B_recursive\n",
        "print(\"\\nTask2B_recursive: \")\n",
        "print( \"Expected Output: \",str(arr)[1:-1] )\n",
        "print( \"Your Output    : \",end=\"\" )\n",
        "task2B_recursive( arr )\n",
        "print()\n",
        "\n",
        "# task2C\n",
        "print(\"\\nTask2C: \")\n",
        "arr = np.random.randint(1, 10, size=6, dtype=int)\n",
        "print(\"The Array: \",arr)\n",
        "print( \"Expected Output: \",sum(arr) )\n",
        "print( \"Your Output    : \",task2C(arr) )\n",
        "\n",
        "# task2D_recursive\n",
        "print(\"\\nTask2D_recursive: \")\n",
        "print(\"The Array: \",arr)\n",
        "print( \"Expected Output: \",sum(arr) )\n",
        "print( \"Your Output    : \",task2D_recursive( arr ) )\n",
        "\n",
        "# task2E\n",
        "print(\"\\nTask2E: \")\n",
        "arr = np.random.randint(1, 8, size=5, dtype=int)\n",
        "print(\"The Array: \",arr)\n",
        "print( \"Expected Output: \",np.prod([e for e in arr if e%2!=0])-np.sum([e for e in arr if e%2==0]) )\n",
        "print( \"Your Output    : \",task2E( arr ) )\n",
        "\n",
        "\n",
        "# task2F\n",
        "print(\"\\nTask2F_recursive: \")\n",
        "print(\"The Array: \",arr)\n",
        "print( \"Expected Output: \",int(np.prod([e for e in arr if e%2!=0])-np.sum([e for e in arr if e%2==0])) )\n",
        "print( \"Your Output    : \",task2F_recursive( arr ))"
      ]
    },
    {
      "cell_type": "markdown",
      "metadata": {
        "id": "tTQ04F-UkAga"
      },
      "source": [
        "### **Helper Codes for following tasks**"
      ]
    },
    {
      "cell_type": "code",
      "execution_count": null,
      "metadata": {
        "id": "AAM6PY5VkAgc"
      },
      "outputs": [],
      "source": [
        "class Node:\n",
        "  def __init__(self, value=None, next = None):\n",
        "    self.elem = value\n",
        "    self.next = next"
      ]
    },
    {
      "cell_type": "code",
      "execution_count": null,
      "metadata": {
        "id": "dXFnFWqbkAge"
      },
      "outputs": [],
      "source": [
        "def showLL(head):\n",
        "  if head!=None:\n",
        "    n = head\n",
        "    while n!=None:\n",
        "        print(n.elem, end=' -> ')\n",
        "        n = n.next\n",
        "    print()\n",
        "\n",
        "def arr2LL(arr):\n",
        "  head = Node(arr[0])\n",
        "  n = head\n",
        "  for i in range(1,len(arr)):\n",
        "      newNode = Node(arr[i])\n",
        "      n.next = newNode\n",
        "      n = newNode\n",
        "  tail = n\n",
        "  return head"
      ]
    },
    {
      "cell_type": "markdown",
      "metadata": {
        "id": "D3aHJ09EkAge"
      },
      "source": [
        "### **Task-3:**"
      ]
    },
    {
      "cell_type": "code",
      "execution_count": null,
      "metadata": {
        "id": "QBKg0oFPkAgg"
      },
      "outputs": [],
      "source": [
        "def task3A( head ):\n",
        "    pass #remove this line\n",
        "\n",
        "def task3B_recursive( head ):\n",
        "    pass #remove this line\n",
        "\n",
        "def task3C( head ):\n",
        "    pass #remove this line\n",
        "\n",
        "def task3D_recursive( head ):\n",
        "    pass #remove this line\n",
        "\n",
        "def task3E( head ):\n",
        "    pass #remove this line\n",
        "\n",
        "def multi(head):\n",
        "  if head == None:\n",
        "    return 1\n",
        "  if head.elem%2 == 0:\n",
        "    return head.elem*multi(head.next)\n",
        "  return multi(head.next)\n",
        "\n",
        "def summation(head):\n",
        "  if head == None:\n",
        "    return 0\n",
        "  if head.elem%2 != 0:\n",
        "    return head.elem+summation(head.next)\n",
        "  return summation(head.next)\n",
        "\n",
        "def task3F_recursive( head ):\n",
        "  return summation(head)-multi(head)\n",
        "\n"
      ]
    },
    {
      "cell_type": "code",
      "execution_count": null,
      "metadata": {
        "id": "hARtOhEYkAgh",
        "outputId": "c95afe17-0c11-4ff3-c165-505a6f7f1fa4",
        "colab": {
          "base_uri": "https://localhost:8080/"
        }
      },
      "outputs": [
        {
          "output_type": "stream",
          "name": "stdout",
          "text": [
            "task3A: \n",
            "Expected Output: 18 13 14  2 19  3\n",
            "Your Output    : \n",
            "\n",
            "task3B_recursive: \n",
            "Expected Output:  18 13 14  2 19  3\n",
            "Your Output    : \n",
            "\n",
            "task3C: \n",
            "The LinkedList: 3 -> 2 -> 2 -> 9 -> 9 -> 5 -> \n",
            "Expected Output:  30\n",
            "Your Output    :  None\n",
            "\n",
            "task3D_recursive: \n",
            "The LinkedList: 3 -> 2 -> 2 -> 9 -> 9 -> 5 -> \n",
            "Expected Output:  30\n",
            "Your Output    :  None\n",
            "\n",
            "task3E: \n",
            "The LinkedList: Expected Output:  147.0\n",
            "Your Output    :  None\n",
            "\n",
            "task3F_recursive: \n",
            "The LinkedList: 3 -> 7 -> 1 -> 7 -> 1 -> \n",
            "Expected Output:  18.0\n",
            "Your Output    :  18\n"
          ]
        }
      ],
      "source": [
        "# Driver Code for Task-3\n",
        "arr = np.random.randint(1, 20, size=6, dtype=int)\n",
        "\n",
        "# task3A\n",
        "print(\"task3A: \")\n",
        "print( \"Expected Output: \"+str(arr)[1:-1] )\n",
        "print( \"Your Output    : \",end=\"\" )\n",
        "head = arr2LL(arr)\n",
        "task3A( head )\n",
        "print()\n",
        "\n",
        "# task3B_recursive\n",
        "print(\"\\ntask3B_recursive: \")\n",
        "print( \"Expected Output: \",str(arr)[1:-1] )\n",
        "print( \"Your Output    : \",end=\"\" )\n",
        "head = arr2LL(arr)\n",
        "task3B_recursive( head )\n",
        "print()\n",
        "\n",
        "#--------------------------------------------------------\n",
        "\n",
        "arr = np.random.randint(1, 10, size=6, dtype=int)\n",
        "\n",
        "# task3C\n",
        "print(\"\\ntask3C: \")\n",
        "print(\"The LinkedList: \",end=\"\")\n",
        "head = arr2LL(arr)\n",
        "showLL(head)\n",
        "print( \"Expected Output: \",sum(arr) )\n",
        "print( \"Your Output    : \",task3C( head ) )\n",
        "\n",
        "# task3D_recursive\n",
        "print(\"\\ntask3D_recursive: \")\n",
        "print(\"The LinkedList: \",end=\"\")\n",
        "head = arr2LL(arr)\n",
        "showLL(head)\n",
        "print( \"Expected Output: \",sum(arr) )\n",
        "print( \"Your Output    : \",task3D_recursive( head ) )\n",
        "\n",
        "#--------------------------------------------------------\n",
        "\n",
        "arr = np.random.randint(1, 8, size=5, dtype=int)\n",
        "\n",
        "# task3E\n",
        "print(\"\\ntask3E: \")\n",
        "print(\"The LinkedList: \",end=\"\")\n",
        "head = arr2LL(arr)\n",
        "print( \"Expected Output: \",np.prod([e for e in arr if e%2!=0])-np.sum([e for e in arr if e%2==0]) )\n",
        "print( \"Your Output    : \",task3E( head ) )\n",
        "\n",
        "#--------------------------------------------------------\n",
        "\n",
        "# task3F\n",
        "print(\"\\ntask3F_recursive: \")\n",
        "print(\"The LinkedList: \",end=\"\")\n",
        "head = arr2LL(arr)\n",
        "showLL(head)\n",
        "print( \"Expected Output: \",np.sum([e for e in arr if e%2!=0])-np.prod([e for e in arr if e%2==0]) )\n",
        "print( \"Your Output    : \",task3F_recursive( head ) )"
      ]
    },
    {
      "cell_type": "markdown",
      "metadata": {
        "id": "IT3ABK6RkAgi"
      },
      "source": [
        "### **Task-4:**"
      ]
    },
    {
      "cell_type": "code",
      "execution_count": null,
      "metadata": {
        "id": "BQVM3AeakAgi"
      },
      "outputs": [],
      "source": [
        "def task4A_recursive( head ):\n",
        "    if head == None:\n",
        "      return\n",
        "    task4A_recursive(head.next)\n",
        "    print(head.elem)\n",
        "\n",
        "\n",
        "def task4B_recursive( head ):\n",
        "  if head is None or head.next is None:\n",
        "        return head\n",
        "  new_head = task4B_recursive(head.next)\n",
        "  head.next.next = head\n",
        "  head.next = None\n",
        "  return new_head"
      ]
    },
    {
      "cell_type": "code",
      "execution_count": null,
      "metadata": {
        "id": "iT5vMPdukAgj",
        "outputId": "d6051704-3cd8-4947-c499-a5a932518de7",
        "colab": {
          "base_uri": "https://localhost:8080/"
        }
      },
      "outputs": [
        {
          "output_type": "stream",
          "name": "stdout",
          "text": [
            "task4A_recursive: \n",
            "The LinkedList: 5 -> 11 -> 10 -> 12 -> 14 -> 15 -> \n",
            "Expected Output:  15 14 12 10 11  5\n",
            "Your Output    : 15\n",
            "14\n",
            "12\n",
            "10\n",
            "11\n",
            "5\n",
            "\n",
            "\n",
            "task4B_recursive: \n",
            "The LinkedList: 5 -> 11 -> 10 -> 12 -> 14 -> 15 -> \n",
            "Expected Output:  15 14 12 10 11  5\n",
            "Your Output    : 15 -> 14 -> 12 -> 10 -> 11 -> 5 -> \n",
            "\n"
          ]
        }
      ],
      "source": [
        "# Driver Code for Task-4\n",
        "# task4A_recursive\n",
        "arr = np.random.randint(1, 20, size=6, dtype=int)\n",
        "\n",
        "print(\"task4A_recursive: \")\n",
        "print(\"The LinkedList: \",end=\"\")\n",
        "head = arr2LL(arr)\n",
        "showLL(head)\n",
        "print( \"Expected Output: \",str(arr[::-1])[1:-1] )\n",
        "print( \"Your Output    : \",end=\"\" )\n",
        "task4A_recursive( head )\n",
        "print()\n",
        "\n",
        "#--------------------------------------------------------\n",
        "\n",
        "# task4B_recursive\n",
        "print(\"\\ntask4B_recursive: \")\n",
        "print(\"The LinkedList: \",end=\"\")\n",
        "head = arr2LL(arr)\n",
        "showLL(head)\n",
        "print( \"Expected Output: \",str(arr[::-1])[1:-1] )\n",
        "print( \"Your Output    : \",end=\"\" )\n",
        "head = task4B_recursive( head )\n",
        "showLL(head)\n",
        "print()"
      ]
    },
    {
      "cell_type": "markdown",
      "metadata": {
        "id": "XihcldbfkAgj"
      },
      "source": [
        "### **Task-5:**"
      ]
    },
    {
      "cell_type": "code",
      "execution_count": null,
      "metadata": {
        "id": "FBmo0Nm6kAgk"
      },
      "outputs": [],
      "source": [
        "def findMax_recursive( head):\n",
        "    if head.next == None:\n",
        "        return head.elem\n",
        "    max_2 = findMax_recursive(head.next)\n",
        "    return max(head.elem,max_2)\n",
        "def sortLL_recursive( head ):\n",
        "    pass #remove this line\n",
        "\n",
        "def findDup( head ):\n",
        "    pass #remove this line"
      ]
    },
    {
      "cell_type": "code",
      "execution_count": null,
      "metadata": {
        "id": "_INHPlUZkAgk",
        "outputId": "0a428909-4eeb-4c32-8d78-c70d279f0ba7"
      },
      "outputs": [
        {
          "name": "stdout",
          "output_type": "stream",
          "text": [
            "findMax_recursive: \n",
            "The LinkedList: 18 -> 12 -> 2 -> 3 -> 8 -> 11 -> \n",
            "Expected Output:  18\n",
            "Your Output    :  None\n",
            "\n",
            "sortLL_recursive: \n",
            "The LinkedList: 18 -> 12 -> 2 -> 3 -> 8 -> 11 -> \n",
            "Expected Output:   2  3  8 11 12 18\n",
            "Your Output    : \n",
            "\n",
            "findDup: \n",
            "The LinkedList: 10 -> 22 -> 13 -> 20 -> 22 -> 23 -> 10 -> 22 -> \n",
            "\n",
            "Expected Output: \n",
            "10: 6\n",
            "22: 4, 7\n",
            "13: No Duplicate\n",
            "20: No Duplicate\n",
            "22: 1, 7\n",
            "23: No Duplicate\n",
            "10: 0\n",
            "22: 1, 4\n",
            "\n",
            "Your Output    : \n",
            "\n"
          ]
        }
      ],
      "source": [
        "# Driver Code for Task-5\n",
        "arr = np.random.randint(1, 20, size=6, dtype=int)\n",
        "\n",
        "# task5A\n",
        "print(\"findMax_recursive: \")\n",
        "print(\"The LinkedList: \",end=\"\")\n",
        "head = arr2LL(arr)\n",
        "showLL(head)\n",
        "print( \"Expected Output: \",np.max(arr) )\n",
        "print( \"Your Output    : \",findMax_recursive(head) )\n",
        "\n",
        "#--------------------------------------------------------\n",
        "\n",
        "# task5B\n",
        "print(\"\\nsortLL_recursive: \")\n",
        "print(\"The LinkedList: \",end=\"\")\n",
        "head = arr2LL(arr)\n",
        "showLL(head)\n",
        "print( \"Expected Output: \",str(np.sort(arr))[1:-1] )\n",
        "print( \"Your Output    : \",end=\"\" )\n",
        "head = sortLL_recursive( head )\n",
        "showLL(head)\n",
        "print()\n",
        "\n",
        "#--------------------------------------------------------\n",
        "\n",
        "# task5C\n",
        "print(\"\\nfindDup: \")\n",
        "print(\"The LinkedList: \",end=\"\")\n",
        "arr = np.array([10, 22, 13, 20, 22, 23, 10, 22])\n",
        "head = arr2LL( arr )\n",
        "showLL(head)\n",
        "print( \"\\nExpected Output: \" )\n",
        "print(\"10: 6\\n22: 4, 7\\n13: No Duplicate\\n20: No Duplicate\\n22: 1, 7\\n23: No Duplicate\\n10: 0\\n22: 1, 4\\n\")\n",
        "print( \"Your Output    : \",end=\"\\n\" )\n",
        "findDup( head )\n",
        "print()"
      ]
    }
  ],
  "metadata": {
    "colab": {
      "provenance": []
    },
    "kernelspec": {
      "display_name": "base",
      "language": "python",
      "name": "python3"
    },
    "language_info": {
      "codemirror_mode": {
        "name": "ipython",
        "version": 3
      },
      "file_extension": ".py",
      "mimetype": "text/x-python",
      "name": "python",
      "nbconvert_exporter": "python",
      "pygments_lexer": "ipython3",
      "version": "3.12.7"
    }
  },
  "nbformat": 4,
  "nbformat_minor": 0
}