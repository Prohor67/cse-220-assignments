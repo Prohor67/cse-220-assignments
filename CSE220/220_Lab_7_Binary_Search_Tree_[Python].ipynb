{
  "cells": [
    {
      "cell_type": "code",
      "execution_count": null,
      "metadata": {
        "id": "D6vC520OPeTa"
      },
      "outputs": [],
      "source": [
        "class BTNode:\n",
        "  def __init__(self, elem):\n",
        "    self.elem = elem\n",
        "    self.right = None\n",
        "    self.left = None"
      ]
    },
    {
      "cell_type": "code",
      "execution_count": null,
      "metadata": {
        "id": "UDTKlm4-PfNM"
      },
      "outputs": [],
      "source": [
        "def inorder(root):\n",
        "  if root == None:\n",
        "    return\n",
        "\n",
        "  inorder(root.left)\n",
        "  print(root.elem, end = ' ')\n",
        "  inorder(root.right)"
      ]
    },
    {
      "cell_type": "code",
      "execution_count": null,
      "metadata": {
        "id": "Rtc22SPzPgzM",
        "colab": {
          "base_uri": "https://localhost:8080/"
        },
        "outputId": "d0e453c1-db3a-4ee3-ab09-8751783663be"
      },
      "outputs": [
        {
          "output_type": "stream",
          "name": "stdout",
          "text": [
            "H D B E A I F J C G k "
          ]
        }
      ],
      "source": [
        "def tree_construction(arr, i = 1):\n",
        "  if i>=len(arr) or arr[i] == None:\n",
        "    return None\n",
        "  p = BTNode(arr[i])\n",
        "  p.left = tree_construction(arr, 2*i)\n",
        "  p.right = tree_construction(arr, 2*i+1)\n",
        "  return p\n",
        "\n",
        "\n",
        "root2 = tree_construction([None, 'A', 'B', 'C', 'D', 'E', 'F', 'G', 'H', None, None, None, 'I', 'J', None, 'k'])\n",
        "inorder(root2)"
      ]
    },
    {
      "cell_type": "markdown",
      "metadata": {
        "id": "S2nNCJNhPqGq"
      },
      "source": [
        "Task 1"
      ]
    },
    {
      "cell_type": "code",
      "execution_count": null,
      "metadata": {
        "id": "zbBHU3FoPieb",
        "colab": {
          "base_uri": "https://localhost:8080/"
        },
        "outputId": "662cd02f-e6d9-4c3a-acb5-9221355ca0f3"
      },
      "outputs": [
        {
          "output_type": "stream",
          "name": "stdout",
          "text": [
            "LCA(6,12) = 10\n",
            "LCA(20,6) = 15\n",
            "LCA(18,22) = 20\n",
            "LCA(20,25) = 25\n",
            "LCA(10,12) = 10\n"
          ]
        }
      ],
      "source": [
        "def LCA(root, x, y):\n",
        "  #To Do\n",
        "  if root == None:\n",
        "    return\n",
        "  if x<root.elem and y<root.elem:\n",
        "    return LCA(root.left,x,y)\n",
        "  if x>root.elem and y>root.elem:\n",
        "    return LCA(root.right,x,y)\n",
        "\n",
        "  return root.elem\n",
        "\n",
        "#DRIVER CODE\n",
        "root = BTNode(15)\n",
        "root.left = BTNode(10)\n",
        "root.left.left = BTNode(8)\n",
        "#Write by yourself from the given tree (Create parent node and its corresponding left and right children nodes)\n",
        "root.left.left.left = BTNode(6)\n",
        "root.left.left.right = BTNode(9)\n",
        "root.left.right = BTNode(12)\n",
        "root.right = BTNode(25)\n",
        "root.right.left = BTNode(20)\n",
        "root.right.left.left = BTNode(18)\n",
        "root.right.left.right = BTNode(22)\n",
        "root.right.right = BTNode(30)\n",
        "#check all the sample inputs given\n",
        "#You can take help by seeing the driver code of Lab-6\n",
        "test = [(6,12),(20,6),(18,22),(20,25),(10,12)]\n",
        "\n",
        "for i in test:\n",
        "  x,y = i\n",
        "  print(f\"LCA({x},{y}) = {LCA(root,x,y)}\")"
      ]
    },
    {
      "cell_type": "markdown",
      "metadata": {
        "id": "c-TBf3m0PrtK"
      },
      "source": [
        "Task 2"
      ]
    },
    {
      "cell_type": "code",
      "source": [
        "def find_path(root, key,path = []):\n",
        "    if root is None:\n",
        "        return \"No Path Found\"\n",
        "\n",
        "    path.append(root.elem)\n",
        "    if root.elem == key:\n",
        "        return path\n",
        "\n",
        "    if key < root.elem:\n",
        "        result = find_path(root.left, key, path)\n",
        "        if result != \"No Path Found\":\n",
        "            return result\n",
        "\n",
        "    if key > root.elem:\n",
        "        result = find_path(root.right, key, path)\n",
        "        if result != \"No Path Found\":\n",
        "            return result\n",
        "\n",
        "\n",
        "\n",
        "    return \"No Path Found\"\n",
        "\n",
        "#DRIVER CODE\n",
        "root = BTNode(30)\n",
        "root.left = BTNode(10)\n",
        "root.left.left = BTNode(3)\n",
        "root.left.right = BTNode(15)\n",
        "root.right = BTNode(40)\n",
        "root.right.left = BTNode(35)\n",
        "root.right.right = BTNode(55)\n",
        "\n",
        "#Write by yourself from the given tree\n",
        "print(find_path(root,15))\n",
        "#This should print [30,10,15]\n",
        "\n",
        "print(find_path(root,50))\n",
        "#This should print No Path Found"
      ],
      "metadata": {
        "id": "i6l-v7k1eE9A",
        "colab": {
          "base_uri": "https://localhost:8080/"
        },
        "outputId": "fffb2ee4-03ef-4632-ec13-e9fb19f31ad5"
      },
      "execution_count": null,
      "outputs": [
        {
          "output_type": "stream",
          "name": "stdout",
          "text": [
            "[30, 10, 15]\n",
            "No Path Found\n"
          ]
        }
      ]
    },
    {
      "cell_type": "markdown",
      "metadata": {
        "id": "7r3lH3aWPz2d"
      },
      "source": [
        "Task 3"
      ]
    },
    {
      "cell_type": "code",
      "source": [
        "def sum_of_leaves(root, sum):\n",
        "\n",
        "  if root == None:\n",
        "    return 0\n",
        "  if (root.left == None) and (root.right == None):\n",
        "    return root.elem\n",
        "\n",
        "  left = sum_of_leaves(root.left,sum)\n",
        "  right = sum_of_leaves(root.right,sum)\n",
        "  sum = left+right\n",
        "\n",
        "  return sum\n",
        "\n",
        "#DRIVER CODE\n",
        "root = BTNode(30)\n",
        "root.left = BTNode(10)\n",
        "root.left.left = BTNode(3)\n",
        "root.left.left.left = BTNode(2)\n",
        "root.left.right = BTNode(15)\n",
        "root.right = BTNode(40)\n",
        "root.right.left = BTNode(35)\n",
        "root.right.left.right = BTNode(36)\n",
        "root.right.right = BTNode(55)\n",
        "\n",
        "#Write by yourself from the given tree\n",
        "\n",
        "print(sum_of_leaves(root, 0))"
      ],
      "metadata": {
        "id": "5eT12zYb8zm7",
        "colab": {
          "base_uri": "https://localhost:8080/"
        },
        "outputId": "7448875f-2032-4521-ae34-845487e3d8a7"
      },
      "execution_count": null,
      "outputs": [
        {
          "output_type": "stream",
          "name": "stdout",
          "text": [
            "108\n"
          ]
        }
      ]
    },
    {
      "cell_type": "markdown",
      "metadata": {
        "id": "5KeA-BoC3uOo"
      },
      "source": [
        "Task 4"
      ]
    },
    {
      "cell_type": "code",
      "execution_count": null,
      "metadata": {
        "id": "zFwP64v4Pu6d",
        "colab": {
          "base_uri": "https://localhost:8080/"
        },
        "outputId": "d4592960-3688-4d26-b8f8-e036d310d64c"
      },
      "outputs": [
        {
          "output_type": "stream",
          "name": "stdout",
          "text": [
            "---------------------Test#1---------------------\n",
            "Expected Output: 64\n",
            "You output     : 64\n",
            "---------------------Test#2---------------------\n",
            "Expected Output: 80\n",
            "You output     : 80\n"
          ]
        }
      ],
      "source": [
        "def mirror_sum(root):\n",
        "    if root == None:\n",
        "        return 0\n",
        "    return summation(root.left, root.right)\n",
        "\n",
        "def summation(left, right):\n",
        "    if not left or not right:\n",
        "        return 0\n",
        "    current_sum = left.elem + right.elem\n",
        "    left_mirror = summation(left.left, right.right)\n",
        "    right_mirror = summation(left.right, right.left)\n",
        "    return current_sum + left_mirror + right_mirror\n",
        "\n",
        "#DRIVER CODE\n",
        "\n",
        "print(\"---------------------Test#1---------------------\")\n",
        "#Example Tree 1\n",
        "root = BTNode(10)\n",
        "n1 = BTNode(6)\n",
        "n2 = BTNode(15)\n",
        "n3 = BTNode(3)\n",
        "n4 = BTNode(8)\n",
        "n5 = BTNode(12)\n",
        "n6 = BTNode(20)\n",
        "\n",
        "root.left = n1\n",
        "root.right = n2\n",
        "\n",
        "n1.left = n3\n",
        "n1.right = n4\n",
        "\n",
        "n2.left = n5\n",
        "n2.right = n6\n",
        "print(\"Expected Output: 64\")\n",
        "print(\"You output     :\",mirror_sum(root))\n",
        "\n",
        "print(\"---------------------Test#2---------------------\")\n",
        "\n",
        "#Example Tree 1\n",
        "root = BTNode(20)\n",
        "n1 = BTNode(15)\n",
        "n2 = BTNode(25)\n",
        "n3 = BTNode(10)\n",
        "n4 = BTNode(18)\n",
        "n5 = BTNode(5)\n",
        "n6 = BTNode(30)\n",
        "\n",
        "root.left = n1\n",
        "root.right = n2\n",
        "\n",
        "n1.left = n3\n",
        "n1.right = n4\n",
        "\n",
        "n3.left = n5\n",
        "n2.right = n6\n",
        "print(\"Expected Output: 80\")\n",
        "print(\"You output     :\",mirror_sum(root))"
      ]
    },
    {
      "cell_type": "code",
      "source": [
        "def leq(root,target, result = None):\n",
        "  if root == None:\n",
        "    return result\n",
        "\n",
        "  if root.elem<=target:\n",
        "    if result == None:\n",
        "       result = str(root.elem)+ \" \"\n",
        "    else:\n",
        "       result+= str(root.elem)+ \" \"\n",
        "  if root.elem>= target:\n",
        "    result = leq(root.left, target, result)\n",
        "    result = leq(root.right, target, result)\n",
        "  return result\n",
        "\n",
        "\n",
        "root = BTNode(10)\n",
        "root.left = BTNode(5)\n",
        "root.left.left = BTNode(2)\n",
        "root.left.right = BTNode(7)\n",
        "root.right = BTNode(15)\n",
        "\n",
        "print(leq(root,10))"
      ],
      "metadata": {
        "colab": {
          "base_uri": "https://localhost:8080/"
        },
        "id": "BHIMzV5vxT0U",
        "outputId": "6d4ab25b-86ac-4f69-aa56-5d0991a3c65b"
      },
      "execution_count": null,
      "outputs": [
        {
          "output_type": "stream",
          "name": "stdout",
          "text": [
            "10 5 \n"
          ]
        }
      ]
    }
  ],
  "metadata": {
    "colab": {
      "provenance": []
    },
    "kernelspec": {
      "display_name": "Python 3",
      "name": "python3"
    },
    "language_info": {
      "name": "python"
    }
  },
  "nbformat": 4,
  "nbformat_minor": 0
}