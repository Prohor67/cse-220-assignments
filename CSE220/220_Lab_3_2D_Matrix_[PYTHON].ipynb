{
  "cells": [
    {
      "cell_type": "markdown",
      "metadata": {
        "id": "YLpnDfK4egmI"
      },
      "source": [
        "**Instructions to Follow (Failing to follow these will result mark deductions).**\n",
        "1. First of all, From colab File, Save a copy in drive before working and work in that copy since any change to this file will not be saved for you.\n",
        "2. You can not use any built-in function except len()\n",
        "\n",
        "3. You can not use any other python collections except array (e.g: tuple, dictionaries etc.).\n",
        "\n",
        "4. We will initialize a new array using numpy library. We have to mention the fixed size during initialization. There might be 4 approaches.\n",
        "\n",
        " i. arr = np.array([None] * 10) #Initializing an array length 10 with values None.\n",
        "\n",
        " ii. arr = np.array([0] * 10) #Initializing an array length 10 with values zero.\n",
        "\n",
        " iii. arr = np.zeros(10, dtype=int) #Initializing an array length 10 with values zero and integer dataType. By default, dtype is float.\n",
        "\n",
        " iv. arr = np.array([10, 20, 30, 40]) #Initializing an array length 4 with the values.\n",
        "\n"
      ]
    },
    {
      "cell_type": "code",
      "execution_count": null,
      "metadata": {
        "id": "rSkZFFD4ej5o",
        "colab": {
          "base_uri": "https://localhost:8080/"
        },
        "outputId": "56999632-2dc2-4b4a-c059-138f21afce98"
      },
      "outputs": [
        {
          "output_type": "stream",
          "name": "stdout",
          "text": [
            "Collecting fhm-unittest\n",
            "  Downloading fhm_unittest-1.0.1-py3-none-any.whl.metadata (1.9 kB)\n",
            "Downloading fhm_unittest-1.0.1-py3-none-any.whl (2.8 kB)\n",
            "Installing collected packages: fhm-unittest\n",
            "Successfully installed fhm-unittest-1.0.1\n",
            "Collecting fuzzywuzzy\n",
            "  Downloading fuzzywuzzy-0.18.0-py2.py3-none-any.whl.metadata (4.9 kB)\n",
            "Downloading fuzzywuzzy-0.18.0-py2.py3-none-any.whl (18 kB)\n",
            "Installing collected packages: fuzzywuzzy\n",
            "Successfully installed fuzzywuzzy-0.18.0\n"
          ]
        },
        {
          "output_type": "stream",
          "name": "stderr",
          "text": [
            "/usr/local/lib/python3.11/dist-packages/fuzzywuzzy/fuzz.py:11: UserWarning: Using slow pure-python SequenceMatcher. Install python-Levenshtein to remove this warning\n",
            "  warnings.warn('Using slow pure-python SequenceMatcher. Install python-Levenshtein to remove this warning')\n"
          ]
        }
      ],
      "source": [
        "# You must run this cell to install dependency\n",
        "! pip3 install fhm-unittest\n",
        "! pip3 install fuzzywuzzy\n",
        "import fhm_unittest as unittest\n",
        "import numpy as np"
      ]
    },
    {
      "cell_type": "markdown",
      "metadata": {
        "id": "z-BkkdfjgR6P"
      },
      "source": [
        "You will see the status Accepted after completion if your code is correct.\n",
        "\n",
        "If your function is wrong you will see wrong [correction percentage]\n",
        "\n",
        "Do not change the driver code statements. You can only change the input values to test your code."
      ]
    },
    {
      "cell_type": "code",
      "execution_count": null,
      "metadata": {
        "id": "fknrEodfUb5M"
      },
      "outputs": [],
      "source": [
        "#DO NOT CHANGE THE CODE BELOW\n",
        "#You must run this cell to print matrix and for the driver code to work\n",
        "def print_matrix(m):\n",
        "  row,col = m.shape\n",
        "  for i in range(row):\n",
        "    c = 1\n",
        "    print('|', end='')\n",
        "    for j in range(col):\n",
        "      c += 1\n",
        "      if(len(str(m[i][j])) == 1):\n",
        "        print(' ',m[i][j], end = '  |')\n",
        "        c += 6\n",
        "      else:\n",
        "        print(' ',m[i][j], end = ' |')\n",
        "        c += 6\n",
        "    print()\n",
        "    print('-'*(c-col))\n",
        "\n"
      ]
    },
    {
      "cell_type": "code",
      "execution_count": null,
      "metadata": {
        "id": "uCgJkHxuKkY3",
        "colab": {
          "base_uri": "https://localhost:8080/"
        },
        "outputId": "20b18b3c-ba1f-4f18-a7d3-5fba90fa6de8"
      },
      "outputs": [
        {
          "output_type": "stream",
          "name": "stdout",
          "text": [
            "|  3  |  8  |  4  |  6  |  1  |\n",
            "-------------------------------\n",
            "|  7  |  2  |  1  |  9  |  3  |\n",
            "-------------------------------\n",
            "|  9  |  0  |  7  |  5  |  8  |\n",
            "-------------------------------\n",
            "|  2  |  1  |  3  |  4  |  0  |\n",
            "-------------------------------\n",
            "|  1  |  4  |  2  |  8  |  6  |\n",
            "-------------------------------\n",
            "Walking Sequence:\n",
            "3 9 1 \n",
            "1 2 \n",
            "4 7 2 \n",
            "4 9 \n",
            "1 8 6 \n",
            "\n",
            "################\n",
            "|  3  |  8  |  4  |  6  |  1  |\n",
            "-------------------------------\n",
            "|  7  |  2  |  1  |  9  |  3  |\n",
            "-------------------------------\n",
            "|  9  |  0  |  7  |  5  |  8  |\n",
            "-------------------------------\n",
            "|  2  |  1  |  3  |  4  |  0  |\n",
            "-------------------------------\n",
            "Walking Sequence:\n",
            "3 9 \n",
            "1 2 \n",
            "4 7 \n",
            "4 9 \n",
            "1 8 \n"
          ]
        }
      ],
      "source": [
        "# Task 01: Zigzag Walk\n",
        "\n",
        "def walk_zigzag(floor):\n",
        "  flag = False\n",
        "  index = 0\n",
        "  printer = \"\"\n",
        "  length = len(floor)\n",
        "  while index <= length:\n",
        "    if flag == False:\n",
        "      for i in range(0,len(floor),2):\n",
        "        printer += str(floor[i][index])+\" \"\n",
        "      print(printer)\n",
        "      printer = \"\"\n",
        "      flag = True\n",
        "      index+=1\n",
        "    else:\n",
        "      if len(floor)%2 == 0:\n",
        "        for i in range(len(floor)-1,-1,-2):\n",
        "          printer += str(floor[i][index])+\" \"\n",
        "        print(printer)\n",
        "        printer = \"\"\n",
        "\n",
        "        flag = False\n",
        "        index+= 1\n",
        "      else:\n",
        "\n",
        "        for i in range(len(floor)-2,-1,-2):\n",
        "          if index < len(floor[i]) :\n",
        "            printer += str(floor[i][index])+\" \"\n",
        "        print(printer)\n",
        "        printer = \"\"\n",
        "        index += 1\n",
        "        flag = False\n",
        "\n",
        "\n",
        "#DO NOT CHANGE THE CODE BELOW\n",
        "floor = np.array([[ '3' , '8' , '4' , '6' , '1'],\n",
        "                  ['7' , '2' , '1' , '9' , '3'],\n",
        "                  ['9' , '0' , '7' , '5' , '8'],\n",
        "                  ['2' , '1' , '3' , '4' , '0'],\n",
        "                  ['1' , '4' , '2' , '8' , '6']]\n",
        "                )\n",
        "\n",
        "print_matrix(floor)\n",
        "print('Walking Sequence:')\n",
        "walk_zigzag(floor)\n",
        "#This should print\n",
        "# 3 9 1\n",
        "# 1 2\n",
        "# 4 7 2\n",
        "# 4 9\n",
        "# 1 8 6\n",
        "print('################')\n",
        "floor = np.array([[ '3' , '8' , '4' , '6' , '1'],\n",
        "                  ['7' , '2' , '1' , '9' , '3'],\n",
        "                  ['9' , '0' , '7' , '5' , '8'],\n",
        "                  ['2' , '1' , '3' , '4' , '0']]\n",
        "                )\n",
        "\n",
        "print_matrix(floor)\n",
        "print('Walking Sequence:')\n",
        "walk_zigzag(floor)\n",
        "#This should print\n",
        "# 3 9\n",
        "# 1 2\n",
        "# 4 7\n",
        "# 4 9\n",
        "# 1 8"
      ]
    },
    {
      "cell_type": "code",
      "execution_count": null,
      "metadata": {
        "id": "mxufE5rfVEJM",
        "colab": {
          "base_uri": "https://localhost:8080/"
        },
        "outputId": "e061293f-3867-4983-da30-f2b1f954a913"
      },
      "outputs": [
        {
          "output_type": "stream",
          "name": "stdout",
          "text": [
            "[-13   1]\n"
          ]
        }
      ],
      "source": [
        "#Task 02: Decryption Process\n",
        "\n",
        "def decrypt_matrix(matrix):\n",
        "  count_array = np.zeros((len(matrix[0])),dtype=int)\n",
        "  idx = 0\n",
        "  col = len(matrix[0])-1\n",
        "  row = len(matrix)\n",
        "  while idx <= col:\n",
        "    for i in range(row):\n",
        "      count_array[idx] += matrix[i][idx]\n",
        "    idx+=1\n",
        "\n",
        "  result = np.zeros((col),dtype=int)\n",
        "  for i in range(col):\n",
        "    result[i] = count_array[i+1] - count_array[i]\n",
        "  return result\n",
        "\n",
        "#DO NOT CHANGE THE CODE BELOW\n",
        "matrix=np.array([[1,3,1],\n",
        "                 [6,4,2],\n",
        "                 [5,1,7],\n",
        "                 [9,3,3],\n",
        "                 [8,5,4]\n",
        "                 ])\n",
        "\n",
        "returned_array=decrypt_matrix(matrix)\n",
        "print(returned_array)\n",
        "#This should print [-13, 1]"
      ]
    },
    {
      "cell_type": "code",
      "execution_count": null,
      "metadata": {
        "id": "SzBe-ByVmV8G",
        "colab": {
          "base_uri": "https://localhost:8080/"
        },
        "outputId": "b371424d-1dd8-4cb2-d40e-420b3babb4e4"
      },
      "outputs": [
        {
          "output_type": "stream",
          "name": "stdout",
          "text": [
            "|  A  |  B  |  C  |  D  |  E  |\n",
            "-------------------------------\n",
            "|  F  |  G  |  H  |  I  |  J  |\n",
            "-------------------------------\n",
            "|  K  |  L  |  M  |  N  |  O  |\n",
            "-------------------------------\n",
            "|  P  |  Q  |  R  |  S  |  T  |\n",
            "-------------------------------\n",
            "|  U  |  V  |  W  |  X  |  Y  |\n",
            "-------------------------------\n",
            "|  Z  |  AA |  BB |  CC |  DD |\n",
            "-------------------------------\n",
            "\n",
            "Your friend AA will be on row 2\n"
          ]
        }
      ],
      "source": [
        "# Task 03: Row Rotation Policy of BRACU Classroom\n",
        "def row_rotation(exam_week, seat_status):\n",
        "  rows = len(seat_status)\n",
        "  cols = len(seat_status[0])\n",
        "  seat=np.array([[None]*cols]*rows)\n",
        "  for k in range(exam_week-1):\n",
        "      counter = 0\n",
        "      while counter < rows:\n",
        "          if counter == 0:\n",
        "              seat[counter] = seat_status[rows-1]\n",
        "          else:\n",
        "              seat[counter] =seat_status[counter - 1]\n",
        "          counter = counter + 1\n",
        "          if counter == rows:\n",
        "              i=0\n",
        "              while i < rows:\n",
        "                  if i==0:\n",
        "                      seat_status[i]=seat[i]\n",
        "                  else:\n",
        "                      seat_status[i]=seat[i]\n",
        "                  i += 1\n",
        "\n",
        "  for row in range(rows):\n",
        "      for col in range(cols):\n",
        "          if seat_status[row][col]==\"AA\":\n",
        "              return row+1\n",
        "\n",
        "\n",
        "#DO NOT CHANGE THE CODE BELOW\n",
        "seat_status = np.array([[ 'A' , 'B' , 'C' , 'D' , 'E'],\n",
        "                  ['F' , 'G' , 'H' , 'I' , 'J'],\n",
        "                  ['K' , 'L' , 'M' , 'N' , 'O'],\n",
        "                  ['P' , 'Q' , 'R' , 'S' , 'T'],\n",
        "                  ['U' , 'V' , 'W' , 'X' , 'Y'],\n",
        "                  ['Z' , 'AA' , 'BB' , 'CC' , 'DD']])\n",
        "exam_week=3\n",
        "print_matrix(seat_status)\n",
        "print()\n",
        "\n",
        "row_number=row_rotation(exam_week, seat_status) #This should print modified seat status after rotation and return the row number\n",
        "print(f'Your friend AA will be on row {row_number}') #This should print Your friend AA will be on row 2"
      ]
    },
    {
      "cell_type": "code",
      "execution_count": null,
      "metadata": {
        "id": "Oi7AXojBEayT",
        "colab": {
          "base_uri": "https://localhost:8080/"
        },
        "outputId": "c8c4891e-7edf-4720-e4e5-55c470812cf7"
      },
      "outputs": [
        {
          "output_type": "stream",
          "name": "stdout",
          "text": [
            "|  1  |  2  |  3  |  4  |\n",
            "-------------------------\n",
            "|  5  |  6  |  7  |  8  |\n",
            "-------------------------\n",
            "|  1  |  3  |  5  |  2  |\n",
            "-------------------------\n",
            "|  -2 |  0  |  6  |  -3 |\n",
            "-------------------------\n",
            "...............\n",
            "|  14 |  22 |\n",
            "-------------\n",
            "|  2  |  10 |\n",
            "-------------\n",
            "(4, 4)\n"
          ]
        }
      ],
      "source": [
        "#Task 04: Matrix Compression\n",
        "\n",
        "def compress_matrix(mat):\n",
        "    rows, cols = np.shape(matrix)\n",
        "    compressed_rows, compressed_cols = rows // 2, cols // 2\n",
        "\n",
        "    compressed_matrix = np.zeros((compressed_rows, compressed_cols), dtype=int)\n",
        "\n",
        "    for i in range(0, rows, 2):\n",
        "        for j in range(0, cols, 2):\n",
        "            block_sum = mat[i][j] + mat[i][j+1] + mat[i+1][j] + mat[i+1][j+1]\n",
        "            compressed_matrix[i//2][j//2] = block_sum\n",
        "\n",
        "    return compressed_matrix\n",
        "#DO NOT CHANGE THE CODE BELOW\n",
        "matrix=np.array([[1,2,3,4],\n",
        "                 [5,6,7,8],\n",
        "                 [1,3,5,2],\n",
        "                 [-2,0,6,-3]\n",
        "                 ])\n",
        "print_matrix(matrix)\n",
        "print(\"...............\")\n",
        "returned_array=compress_matrix(matrix)\n",
        "print_matrix(returned_array)\n",
        "\n",
        "#This should print\n",
        "\n",
        "#|  14  |  22 |\n",
        "#--------------\n",
        "#|  2  |  10  |\n",
        "#--------------"
      ]
    },
    {
      "cell_type": "code",
      "execution_count": null,
      "metadata": {
        "id": "sTJ7GNezm6uu",
        "colab": {
          "base_uri": "https://localhost:8080/"
        },
        "outputId": "02ab46b7-94b3-47f0-91d8-ccecc7224525"
      },
      "outputs": [
        {
          "output_type": "stream",
          "name": "stdout",
          "text": [
            "|  0  |  2  |  2  |  0  |\n",
            "-------------------------\n",
            "|  50 |  1  |  2  |  0  |\n",
            "-------------------------\n",
            "|  2  |  2  |  2  |  0  |\n",
            "-------------------------\n",
            "|  1  |  100 |  2  |  0  |\n",
            "-------------------------\n",
            "Points Gained: 6. Your team is out.\n",
            ".....................\n",
            "|  0  |  2  |  2  |  0  |  2  |\n",
            "-------------------------------\n",
            "|  1  |  50 |  2  |  1  |  100 |\n",
            "-------------------------------\n",
            "|  2  |  2  |  2  |  0  |  2  |\n",
            "-------------------------------\n",
            "|  0  |  200 |  2  |  0  |  0  |\n",
            "-------------------------------\n",
            "Points Gained: 14. Your team has survived the game.\n"
          ]
        }
      ],
      "source": [
        "#Task 05: Game Arena\n",
        "def above(row, col, arr):\n",
        "  if arr[row-1][col] == 2:\n",
        "    return 1\n",
        "  else:\n",
        "    return 0\n",
        "def below(row,col,arr):\n",
        "  if arr[row+1][col] == 2:\n",
        "    return 1\n",
        "  else:\n",
        "    return 0\n",
        "def right(row,col,arr):\n",
        "  if arr[row][col+1] == 2:\n",
        "    return 1\n",
        "  else:\n",
        "    return 0\n",
        "def left(row,col,arr):\n",
        "  if arr[row][col-1] == 2:\n",
        "    return 1\n",
        "  else:\n",
        "    return 0\n",
        "def play_game(arena):\n",
        "  point = 0\n",
        "  for row in range(len(arena)):\n",
        "    for col in range(len(arena[row])):\n",
        "      if arena[row][col] != 1 and arena[row][col] != 0 and arena[row][col] != 2:\n",
        "        if row == 0:\n",
        "          if col == 0 :\n",
        "            point += right(row,col,arena)\n",
        "            point += below(row,col,arena)\n",
        "          elif col == len(arena[row])-1:\n",
        "            point += left(row,col,arena)\n",
        "            point += below(row,col,arena)\n",
        "          else:\n",
        "            point += right(row,col,arena)\n",
        "            point += below(row,col,arena)\n",
        "            point += left(row,col,arena)\n",
        "        elif row == len(arena)-1:\n",
        "          if col == 0:\n",
        "            point += right(row,col,arena)\n",
        "            point += above(row,col,arena)\n",
        "          elif col == len(arena[row])-1:\n",
        "            point += left(row,col,arena)\n",
        "            point += above(row,col,arena)\n",
        "          else:\n",
        "            point += right(row,col,arena)\n",
        "            point += above(row,col,arena)\n",
        "            point += left(row,col,arena)\n",
        "        else:\n",
        "          if col == 0:\n",
        "            point += right(row,col,arena)\n",
        "            point += below(row,col,arena)\n",
        "            point += above(row,col,arena)\n",
        "          elif col == len(arena[row])-1:\n",
        "            point += left(row,col,arena)\n",
        "            point += below(row,col,arena)\n",
        "            point += above(row,col,arena)\n",
        "          else:\n",
        "            point += left(row,col,arena)\n",
        "            point += below(row,col,arena)\n",
        "            point += above(row,col,arena)\n",
        "            point += right(row,col,arena)\n",
        "\n",
        "  point = point*2\n",
        "  if (point) < 10:\n",
        "    print(f\"Points Gained: {point}. Your team is out.\")\n",
        "  else:\n",
        "    print(f\"Points Gained: {point}. Your team has survived the game.\")\n",
        "\n",
        "\n",
        "\n",
        "#DO NOT CHANGE THE CODE BELOW\n",
        "arena=np.array([[0,2,2,0],\n",
        "                [50,1,2,0],\n",
        "                [2,2,2,0],\n",
        "                [1,100,2,0]\n",
        "                ])\n",
        "print_matrix(arena)\n",
        "play_game(arena)\n",
        "#This should print\n",
        "#Points Gained: 6. Your team is out.\n",
        "print(\".....................\")\n",
        "arena=np.array([[0,2,2,0,2],\n",
        "                [1,50,2,1,100],\n",
        "                [2,2,2,0,2],\n",
        "                [0,200,2,0,0]\n",
        "                ])\n",
        "print_matrix(arena)\n",
        "play_game(arena)\n",
        "#This should print\n",
        "#Points Gained: 14. Your team has survived the game."
      ]
    },
    {
      "cell_type": "code",
      "source": [
        "# Task 01: Zigzag Walk\n",
        "\n",
        "def rotate(floor):\n",
        "  output=\"\"\n",
        "  row,col = np.shape(floor)\n",
        "  i = 1\n",
        "  output+=floor[0][0]+\" \"\n",
        "  j = 0\n",
        "  counter = 1\n",
        "  while j<col:\n",
        "    j=0\n",
        "    i = counter\n",
        "    while i>-1:\n",
        "      print((i,j))\n",
        "      output+=floor[i][j]+\" \"\n",
        "\n",
        "      i-=1\n",
        "      j+=1\n",
        "    if j == col:\n",
        "\n",
        "\n",
        "    counter+=1\n",
        "\n",
        "  return output\n",
        "\n",
        "\n",
        "\n",
        "\n",
        "\n",
        "#DO NOT CHANGE THE CODE BELOW\n",
        "floor = np.array([['D','B','G','S'],\n",
        "                  ['A','G','T','S'],\n",
        "                  ['W','U','R','N'],\n",
        "                  ['O','H','R','O']\n",
        "                  ]\n",
        "                )\n",
        "\n",
        "print_matrix(floor)\n",
        "print('Walking Sequence:')\n",
        "rotate(floor)"
      ],
      "metadata": {
        "colab": {
          "base_uri": "https://localhost:8080/",
          "height": 348
        },
        "id": "-WdADXiSBiI9",
        "outputId": "f366faf3-7d40-4a32-9aee-69f64c60aa7d"
      },
      "execution_count": null,
      "outputs": [
        {
          "output_type": "stream",
          "name": "stdout",
          "text": [
            "|  D  |  B  |  G  |  S  |\n",
            "-------------------------\n",
            "|  A  |  G  |  T  |  S  |\n",
            "-------------------------\n",
            "|  W  |  U  |  R  |  N  |\n",
            "-------------------------\n",
            "|  O  |  H  |  R  |  O  |\n",
            "-------------------------\n",
            "Walking Sequence:\n",
            "(1, 0)\n",
            "(0, 1)\n",
            "(2, 0)\n",
            "(1, 1)\n",
            "(0, 2)\n",
            "(3, 0)\n",
            "(2, 1)\n",
            "(1, 2)\n",
            "(0, 3)\n"
          ]
        },
        {
          "output_type": "execute_result",
          "data": {
            "text/plain": [
              "'D A B W G G O U T S '"
            ],
            "application/vnd.google.colaboratory.intrinsic+json": {
              "type": "string"
            }
          },
          "metadata": {},
          "execution_count": 17
        }
      ]
    }
  ],
  "metadata": {
    "colab": {
      "provenance": []
    },
    "kernelspec": {
      "display_name": "Python 3",
      "name": "python3"
    },
    "language_info": {
      "name": "python"
    }
  },
  "nbformat": 4,
  "nbformat_minor": 0
}