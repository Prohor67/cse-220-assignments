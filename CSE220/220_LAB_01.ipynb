{
  "nbformat": 4,
  "nbformat_minor": 0,
  "metadata": {
    "colab": {
      "provenance": []
    },
    "kernelspec": {
      "name": "python3",
      "display_name": "Python 3"
    },
    "language_info": {
      "name": "python"
    }
  },
  "cells": [
    {
      "cell_type": "code",
      "source": [
        "! pip3 install fhm-unittest\n",
        "! pip3 install fuzzywuzzy\n",
        "import fhm_unittest as unittest\n",
        "import numpy as np"
      ],
      "metadata": {
        "colab": {
          "base_uri": "https://localhost:8080/"
        },
        "id": "hz21PyZxLJNz",
        "outputId": "e447dff6-3d84-46d4-e655-01933328bf6d"
      },
      "execution_count": null,
      "outputs": [
        {
          "output_type": "stream",
          "name": "stdout",
          "text": [
            "Collecting fhm-unittest\n",
            "  Downloading fhm_unittest-1.0.1-py3-none-any.whl (2.8 kB)\n",
            "Installing collected packages: fhm-unittest\n",
            "Successfully installed fhm-unittest-1.0.1\n",
            "Collecting fuzzywuzzy\n",
            "  Downloading fuzzywuzzy-0.18.0-py2.py3-none-any.whl (18 kB)\n",
            "Installing collected packages: fuzzywuzzy\n",
            "Successfully installed fuzzywuzzy-0.18.0\n"
          ]
        },
        {
          "output_type": "stream",
          "name": "stderr",
          "text": [
            "/usr/local/lib/python3.10/dist-packages/fuzzywuzzy/fuzz.py:11: UserWarning: Using slow pure-python SequenceMatcher. Install python-Levenshtein to remove this warning\n",
            "  warnings.warn('Using slow pure-python SequenceMatcher. Install python-Levenshtein to remove this warning')\n"
          ]
        }
      ]
    },
    {
      "cell_type": "code",
      "execution_count": null,
      "metadata": {
        "colab": {
          "base_uri": "https://localhost:8080/"
        },
        "id": "xO_jydOI_1GV",
        "outputId": "bba665bc-e1a0-442a-e698-4a8bebe4a899"
      },
      "outputs": [
        {
          "output_type": "stream",
          "name": "stdout",
          "text": [
            "///  Test 01: Play Right  ///\n",
            "Task 1: [40 50 60 10 20 30]\n"
          ]
        }
      ],
      "source": [
        "#TASK1\n",
        "\n",
        "sequence=[10,20,30,40,50,60]\n",
        "beats = [1,0,0,1,0,1]\n",
        "\n",
        "def rightShift(arr):\n",
        "  temp = arr[len(arr)-1]\n",
        "  i = len(arr)-1\n",
        "  while i >= 1:\n",
        "    arr[i] = arr[i-1]\n",
        "    i-=1\n",
        "  arr[0] = temp\n",
        "  return arr\n",
        "\n",
        "def playRight(sequence, beats):\n",
        "  arr = np.array(sequence)\n",
        "  beat = np.array(beats)\n",
        "  for i in beat:\n",
        "    if i == 1:\n",
        "      rightShift(arr)\n",
        "  return arr\n",
        "\n",
        "\n",
        "\n",
        "print(\"///  Test 01: Play Right  ///\")\n",
        "sequence = np.array([10, 20, 30, 40, 50, 60])\n",
        "beats = np.array([1, 0, 0, 1, 0, 1])\n",
        "returned_value = playRight(sequence, beats)\n",
        "print(f'Task 1: {returned_value}')  # This should print [40, 50, 60, 10, 20, 30]"
      ]
    },
    {
      "cell_type": "code",
      "source": [
        "#TASK02\n",
        "cards=np.array([2,2,2,10,2,2,2,30,2,50,2,2,0,0])\n",
        "\n",
        "def finder(arr):\n",
        "  for i in range(len(arr)):\n",
        "    if arr[i] == 0:\n",
        "      for j in range(i+1,len(arr)):\n",
        "        if arr[j] != 0:\n",
        "          arr[i] = arr[j]\n",
        "          arr[j] = 0\n",
        "          break\n",
        "  return arr\n",
        "\n",
        "def discardCards(arr,num):\n",
        "  for i in range(len(arr)):\n",
        "    if arr[i] == num:\n",
        "      arr[i] = 0\n",
        "\n",
        "  finder(arr)\n",
        "\n",
        "  return arr\n",
        "\n",
        "print(\"///  Test 02: Discard Cards  ///\")\n",
        "cards = np.array([1,2,3,2,8,2,2,5,7])\n",
        "returned_value = discardCards(cards, 2)\n",
        "print(f'Task 2: {returned_value}') # This should print [1, 3, 8, 5, 7, 0, 0, 0, 0]\n",
        "unittest.output_test(returned_value, np.array([1, 3, 8, 5, 7, 0, 0, 0, 0]))\n"
      ],
      "metadata": {
        "colab": {
          "base_uri": "https://localhost:8080/"
        },
        "id": "EKCTuijVKPBC",
        "outputId": "e02c8201-a48b-4c02-e970-156bf5d41cde"
      },
      "execution_count": null,
      "outputs": [
        {
          "output_type": "stream",
          "name": "stdout",
          "text": [
            "///  Test 02: Discard Cards  ///\n",
            "Task 2: [1 3 8 5 7 0 0 0 0]\n",
            "Accepted\n"
          ]
        }
      ]
    },
    {
      "cell_type": "code",
      "source": [
        "#TASK03\n",
        "\n",
        "def None_changer(arr1):\n",
        "  for i in range(len(arr1)):\n",
        "    if arr1[i] == None:\n",
        "      arr1[i] = 0\n",
        "\n",
        "  return arr1\n",
        "def mergeLineup(arr1, arr2):\n",
        "  if None in arr1 or arr2:\n",
        "    arr1 = None_changer(arr1)\n",
        "    arr2 = None_changer(arr2)\n",
        "  new_arr = np.zeros(len(arr1), dtype = int)\n",
        "  i = 0\n",
        "  k = len(arr2) - 1\n",
        "  while i<len(arr1):\n",
        "    new_arr[i] = arr1[i]+arr2[k]\n",
        "    i += 1\n",
        "    k -= 1\n",
        "  return new_arr\n",
        "\n",
        "print(\"///  Test 03: Merge Lineup  ///\")\n",
        "pokemon_1 = np.array([12, 3, 25, 1, None])\n",
        "pokemon_2 = np.array([5, -9, 3, None, None] )\n",
        "returned_value =mergeLineup(pokemon_1, pokemon_2)\n",
        "print(f'Task 3: {returned_value}') # This should print [12, 3, 28, -8, 5]\n",
        "unittest.output_test(returned_value, np.array([12, 3, 28, -8, 5]))\n",
        "\n",
        "pokemon_1 = np.array([4, 5, -1, None, None])\n",
        "pokemon_2 = np.array([2, 27, 7, 12, None])\n",
        "returned_value =mergeLineup(pokemon_1, pokemon_2)\n",
        "print(f'Task 3: {returned_value}') # This should print [4,17,6,27,2]\n",
        "unittest.output_test(returned_value, np.array([4,17,6,27,2]))"
      ],
      "metadata": {
        "colab": {
          "base_uri": "https://localhost:8080/"
        },
        "id": "f5IEd-WMVjd4",
        "outputId": "9f420bee-1445-42fa-ecda-15ae4ab5ecb0"
      },
      "execution_count": null,
      "outputs": [
        {
          "output_type": "stream",
          "name": "stdout",
          "text": [
            "///  Test 03: Merge Lineup  ///\n",
            "Task 3: [12  3 28 -8  5]\n",
            "Accepted\n",
            "Task 3: [ 4 17  6 27  2]\n",
            "Accepted\n"
          ]
        }
      ]
    },
    {
      "cell_type": "code",
      "source": [
        "#TASK04\n",
        "\n",
        "def summation(arr):\n",
        "  total_sum = 0\n",
        "  for i in arr:\n",
        "    total_sum += i\n",
        "  return total_sum\n",
        "def balanceSalami(arr):\n",
        "  total_sum = summation(arr)\n",
        "  finding_sum = 0\n",
        "  for i in range(len(arr)-1,-1,-1):\n",
        "    finding_sum += arr[i]\n",
        "    total_sum -= arr[i]\n",
        "    if finding_sum == total_sum:\n",
        "      flag = True\n",
        "      break\n",
        "    else:\n",
        "      flag = False\n",
        "  return flag\n",
        "\n",
        "\n",
        "print(\"///  Test 04: Balance Your Salami  ///\")\n",
        "salami = np.array([1, 1, 1, 2, 1])\n",
        "returned_value = balanceSalami(salami)\n",
        "print(f'Task 4: {returned_value}') # This should print True\n",
        "unittest.output_test(returned_value, True)\n",
        "\n",
        "salami = [2, 1, 1, 2, 1]\n",
        "returned_value = np.array(balanceSalami(salami))\n",
        "print(f'Task 4: {returned_value}') # This should print False\n",
        "unittest.output_test(returned_value, False)\n",
        "\n",
        "salami = [10, 3, 1, 2, 10]\n",
        "returned_value =  np.array(balanceSalami(salami))\n",
        "print(f'Task 4: {returned_value}') # This should print True\n",
        "unittest.output_test(returned_value, True)"
      ],
      "metadata": {
        "colab": {
          "base_uri": "https://localhost:8080/"
        },
        "id": "S3KtNzdsXdOf",
        "outputId": "f8668fc3-e111-4776-8750-91de18e3d87c"
      },
      "execution_count": null,
      "outputs": [
        {
          "output_type": "stream",
          "name": "stdout",
          "text": [
            "///  Test 04: Balance Your Salami  ///\n",
            "Task 4: True\n",
            "Accepted\n",
            "Task 4: False\n",
            "Accepted\n",
            "Task 4: True\n",
            "Accepted\n"
          ]
        }
      ]
    },
    {
      "cell_type": "code",
      "source": [
        "#TASK05\n",
        "\n",
        "def repeat_arr(arr):\n",
        "  new_arr = np.zeros(len(arr), dtype = int)\n",
        "  prev_count_index = 0\n",
        "  repeat = 0\n",
        "  for i in range(len(arr)):\n",
        "    if arr[i] != 0:\n",
        "      repeat+=1\n",
        "      for j in range(i+1,len(arr)):\n",
        "        if arr[i] == arr[j]:\n",
        "          repeat +=1\n",
        "          arr[j] = 0\n",
        "    arr[i] = 0\n",
        "    new_arr[prev_count_index] = repeat\n",
        "    repeat = 0\n",
        "    prev_count_index +=1\n",
        "  return new_arr\n",
        "\n",
        "def protectSalami(arr):\n",
        "  arr = repeat_arr(arr)\n",
        "  for i in range(len(arr)):\n",
        "    if arr[i] != 0:\n",
        "      for j in range(i+1,len(arr)):\n",
        "        if arr[i] == arr[j] and arr[j]!=1:\n",
        "          return True\n",
        "        else:\n",
        "          flag = False\n",
        "\n",
        "  return flag\n",
        "\n",
        "print(\"///  Test 05: Protecc Salami  ///\")\n",
        "salami = np.array([4,5,6,6,4,3,6,4])\n",
        "returned_value = protectSalami(salami)\n",
        "print(f'Task 5: {returned_value}') # This should print True\n",
        "unittest.output_test(returned_value, True)\n",
        "\n",
        "salami = np.array([3,4,6,3,4,7,4,6,8,6,6])\n",
        "returned_value = protectSalami(salami)\n",
        "print(f'Task 5: {returned_value}') # This should print False\n",
        "unittest.output_test(returned_value, False)"
      ],
      "metadata": {
        "colab": {
          "base_uri": "https://localhost:8080/"
        },
        "id": "YJfBMP_ScLGx",
        "outputId": "e1123db6-0411-48b8-c67e-75e2a1750374"
      },
      "execution_count": null,
      "outputs": [
        {
          "output_type": "stream",
          "name": "stdout",
          "text": [
            "///  Test 05: Protecc Salami  ///\n",
            "Task 5: True\n",
            "Accepted\n",
            "Task 5: False\n",
            "Accepted\n"
          ]
        }
      ]
    },
    {
      "cell_type": "code",
      "source": [
        "#TASK06\n",
        "#UNGRADED\n",
        "def waveYourFlag(arr):\n",
        "  # TO DO\n",
        "  return None\n",
        "\n",
        "print(\"///  Test 06: Odd Even Wave  ///\")\n",
        "arr = np.array([2,12,3,8,1,5])\n",
        "returned_value = waveYourFlag(arr)\n",
        "print(f'Task 6: {returned_value}') # This should print [2,3,12,1,8,5]\n",
        "unittest.output_test(returned_value, np.array([2,3,12,1,8,5]))\n",
        "\n",
        "arr = np.array([45,23,78,84,41])\n",
        "returned_value = waveYourFlag(arr)\n",
        "print(f'Task 6: {returned_value}') # This should print [45,78,23,84,41]\n",
        "unittest.output_test(returned_value, np.array([45,78,23,84,41]))"
      ],
      "metadata": {
        "id": "ufORDW0cjki9"
      },
      "execution_count": null,
      "outputs": []
    },
    {
      "cell_type": "markdown",
      "source": [
        "**PART 02**"
      ],
      "metadata": {
        "id": "r6blMQUHTTvI"
      }
    },
    {
      "cell_type": "code",
      "source": [
        "import math\n",
        "arr = np.array([21,22,23])                     #[10, 8, 13, 9, 14, 25, -5, 20, 7, 7, 4]\n",
        "\n",
        "def mean(arr):\n",
        "  total = 0\n",
        "  n = 0\n",
        "  for i in arr:\n",
        "    if i != 0:\n",
        "      total+= i\n",
        "      n+=1\n",
        "  return total/n\n",
        "\n",
        "\n",
        "def standard_deviation(arr):\n",
        "  mean_value = mean(arr)\n",
        "  sum = 0\n",
        "  n = 0\n",
        "  for i in arr:\n",
        "    if i != 0:\n",
        "      sum += (i - mean_value)**2\n",
        "      n+=1\n",
        "\n",
        "  return  round(math.sqrt(sum/n),2)\n",
        "\n",
        "def new_length(arr):\n",
        "  mean_value = mean(arr)\n",
        "  SD_value = standard_deviation(arr)\n",
        "  new_length = 0\n",
        "  for i in arr:\n",
        "    if i >= SD_value*1.5 + mean_value or  i <= mean_value - SD_value*1.5   :\n",
        "      new_length += 1\n",
        "  return new_length\n",
        "def new(arr):\n",
        "  mean_value = mean(arr)\n",
        "  SD_value = standard_deviation(arr)\n",
        "\n",
        "  new_arr = np.zeros(new_length(arr), dtype = int)\n",
        "  index = 0\n",
        "  for i in arr:\n",
        "    if i >= SD_value*1.5 + mean_value or  i <= mean_value - SD_value*1.5   :\n",
        "      new_arr[index] = i\n",
        "      index += 1\n",
        "  if len(new_arr) == 0:\n",
        "    return None\n",
        "  else:\n",
        "    return f\"New array: {new_arr}\"\n",
        "\n",
        "print(new(arr))"
      ],
      "metadata": {
        "colab": {
          "base_uri": "https://localhost:8080/"
        },
        "id": "4NTlrUTGTW41",
        "outputId": "b58b46db-4399-4683-dd7f-e0cd9b2cc0d7"
      },
      "execution_count": null,
      "outputs": [
        {
          "output_type": "stream",
          "name": "stdout",
          "text": [
            "None\n"
          ]
        }
      ]
    }
  ]
}